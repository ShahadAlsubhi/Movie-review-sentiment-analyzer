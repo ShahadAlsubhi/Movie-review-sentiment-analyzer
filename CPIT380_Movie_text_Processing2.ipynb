{
  "cells": [
    {
      "cell_type": "markdown",
      "metadata": {
        "id": "view-in-github",
        "colab_type": "text"
      },
      "source": [
        "<a href=\"https://colab.research.google.com/github/ShahadAlsubhi/Movie-review-sentiment-analyzer/blob/main/CPIT380_Movie_text_Processing2.ipynb\" target=\"_parent\"><img src=\"https://colab.research.google.com/assets/colab-badge.svg\" alt=\"Open In Colab\"/></a>"
      ]
    },
    {
      "cell_type": "code",
      "execution_count": null,
      "metadata": {
        "colab": {
          "background_save": true,
          "base_uri": "https://localhost:8080/"
        },
        "id": "uV41_BC_Qj62",
        "outputId": "d1323502-5dc7-4ba6-872d-7ab78528bc13"
      },
      "outputs": [
        {
          "name": "stdout",
          "output_type": "stream",
          "text": [
            "+-----------+----------+---------+------------------+-------------------+\n",
            "| Sentiment | Polarity | Keyword | Keyword Polarity | Keyword Sentiment |\n",
            "+-----------+----------+---------+------------------+-------------------+\n",
            "|  Positive |  %5.50   |  hoping |       0.0        |      Neutral      |\n",
            "|  Positive |  %5.50   |   good  |       0.7        |      Positive     |\n",
            "|  Positive |  %5.50   |  laugh  |       0.3        |      Positive     |\n",
            "|  Positive |  %5.50   |  humor  |       0.0        |      Neutral      |\n",
            "|  Positive |  %5.50   |   film  |       0.0        |      Neutral      |\n",
            "+-----------+----------+---------+------------------+-------------------+\n",
            "+-----------+----------+-------------+------------------+-------------------+\n",
            "| Sentiment | Polarity |   Keyword   | Keyword Polarity | Keyword Sentiment |\n",
            "+-----------+----------+-------------+------------------+-------------------+\n",
            "|  Positive |  %5.50   | hoping good |       0.7        |      Positive     |\n",
            "|  Positive |  %5.50   |  good laugh |       0.5        |      Positive     |\n",
            "|  Positive |  %5.50   | laugh humor |       0.3        |      Positive     |\n",
            "|  Positive |  %5.50   |  humor film |       0.0        |      Neutral      |\n",
            "|  Positive |  %5.50   |  film felt  |       0.0        |      Neutral      |\n",
            "+-----------+----------+-------------+------------------+-------------------+\n",
            "+-----------+----------+-------------------+----------------------+-------------------+\n",
            "| Sentiment | Polarity |      Keyword      |   Keyword Polarity   | Keyword Sentiment |\n",
            "+-----------+----------+-------------------+----------------------+-------------------+\n",
            "|  Positive |  %5.50   | hoping good laugh |         0.5          |      Positive     |\n",
            "|  Positive |  %5.50   |  good laugh humor |         0.5          |      Positive     |\n",
            "|  Positive |  %5.50   |  laugh humor film |         0.3          |      Positive     |\n",
            "|  Positive |  %5.50   |  humor film felt  |         0.0          |      Neutral      |\n",
            "|  Positive |  %5.50   |  film felt forced | -0.30000000000000004 |      Negative     |\n",
            "+-----------+----------+-------------------+----------------------+-------------------+\n"
          ]
        }
      ],
      "source": [
        "from textblob import TextBlob\n",
        "import re\n",
        "from nltk import ngrams\n",
        "from nltk.tokenize import word_tokenize\n",
        "from nltk.corpus import stopwords\n",
        "from prettytable import PrettyTable\n",
        "\n",
        "def extract_keywords(text, num_keywords=5, n=1):\n",
        "    analysis = TextBlob(text)\n",
        "    sentiment_phrases = [str(chunk) for chunk in analysis.sentences]\n",
        "\n",
        "    keywords = re.findall(r'\\w+', ' '.join(sentiment_phrases))\n",
        "    keywords = [word for word in keywords if word.lower() not in stop_words]\n",
        "\n",
        "    # Extract n-grams based on user preference\n",
        "    if n > 1:\n",
        "        n_grams = list(ngrams(keywords, n))\n",
        "        keywords = [' '.join(gram) for gram in n_grams]\n",
        "\n",
        "    return keywords[:num_keywords]\n",
        "\n",
        "def analyze_sentiment(text, n=1):\n",
        "    analysis = TextBlob(text)\n",
        "    sentiment_polarity = analysis.sentiment.polarity\n",
        "\n",
        "    if sentiment_polarity > 0:\n",
        "        sentiment = \"Positive\"\n",
        "        percent = sentiment_polarity * 100\n",
        "    elif sentiment_polarity == 0:\n",
        "        sentiment = \"Neutral\"\n",
        "    else:\n",
        "        sentiment = \"Negative\"\n",
        "        percent = abs(sentiment_polarity * 100)\n",
        "\n",
        "    keywords = extract_keywords(text, n=n)\n",
        "    polarities = [TextBlob(keyword).sentiment.polarity for keyword in keywords]\n",
        "    keyword_sentiments = [\"Positive\" if polarity > 0 else \"Neutral\" if polarity == 0 else \"Negative\" for polarity in polarities]\n",
        "\n",
        "    return sentiment, percent, keywords, polarities, keyword_sentiments\n",
        "\n",
        "# Use NLTK stopwords\n",
        "stop_words = set(stopwords.words('english'))\n",
        "\n",
        "while True:\n",
        "    table = PrettyTable()\n",
        "    table.field_names = [\"Sentiment\", \"Polarity\", \"Keyword\", \"Keyword Polarity\", \"Keyword Sentiment\"]\n",
        "\n",
        "    user_input = input(\"Enter a movie review text (type 'exit' to quit): \")\n",
        "\n",
        "    if user_input.lower() == 'exit':\n",
        "        print(\"Exiting the program. Goodbye!\")\n",
        "        break\n",
        "\n",
        "    # Ask the user for the choice of n-grams\n",
        "    while True:\n",
        "        n_choice = input(\"Choose the type of n-grams (1 for unigrams, 2 for bigrams, 3 for trigrams): \")\n",
        "        if n_choice in ['1', '2', '3']:\n",
        "            break\n",
        "        else:\n",
        "            print(\"Invalid choice. Please enter 1, 2, or 3.\")\n",
        "\n",
        "    n = int(n_choice)\n",
        "\n",
        "    sentiment, percent, keywords, polarities, keyword_sentiments = analyze_sentiment(user_input, n=n)\n",
        "\n",
        "    for keyword, polarity, keyword_sentiment in zip(keywords, polarities, keyword_sentiments):\n",
        "        table.add_row([sentiment, f\"%{percent:.2f}\", keyword, polarity, keyword_sentiment])\n",
        "\n",
        "    print(table)\n"
      ]
    },
    {
      "cell_type": "code",
      "execution_count": null,
      "metadata": {
        "colab": {
          "base_uri": "https://localhost:8080/"
        },
        "id": "WOgitOoA3FLw",
        "outputId": "576792ec-3343-4249-e43e-889a74875ae6"
      },
      "outputs": [
        {
          "name": "stderr",
          "output_type": "stream",
          "text": [
            "[nltk_data] Downloading package punkt to /root/nltk_data...\n",
            "[nltk_data]   Unzipping tokenizers/punkt.zip.\n",
            "[nltk_data] Downloading package vader_lexicon to /root/nltk_data...\n",
            "[nltk_data] Downloading package stopwords to /root/nltk_data...\n",
            "[nltk_data]   Unzipping corpora/stopwords.zip.\n"
          ]
        },
        {
          "data": {
            "text/plain": [
              "True"
            ]
          },
          "execution_count": 3,
          "metadata": {},
          "output_type": "execute_result"
        }
      ],
      "source": [
        "import nltk\n",
        "nltk.download('punkt')\n",
        "nltk.download('vader_lexicon')\n",
        "nltk.download('stopwords')"
      ]
    }
  ],
  "metadata": {
    "colab": {
      "provenance": [],
      "include_colab_link": true
    },
    "kernelspec": {
      "display_name": "Python 3",
      "name": "python3"
    },
    "language_info": {
      "name": "python"
    }
  },
  "nbformat": 4,
  "nbformat_minor": 0
}